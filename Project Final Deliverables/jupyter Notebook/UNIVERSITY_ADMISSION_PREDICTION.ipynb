{
 "cells": [
  {
   "cell_type": "markdown",
   "id": "60200f06",
   "metadata": {},
   "source": [
    "# Importing Libraries"
   ]
  },
  {
   "cell_type": "code",
   "execution_count": 2,
   "id": "cfcacf0a",
   "metadata": {},
   "outputs": [],
   "source": [
    "import pandas as pd\n",
    "import matplotlib.pyplot as plt\n",
    "import numpy as np\n",
    "import seaborn as sns"
   ]
  },
  {
   "cell_type": "markdown",
   "id": "dd675e22",
   "metadata": {},
   "source": [
    "# Loading the Datasets"
   ]
  },
  {
   "cell_type": "code",
   "execution_count": null,
   "id": "9d61f86d",
   "metadata": {},
   "outputs": [],
   "source": [
    "import os, types\n",
    "import pandas as pd\n",
    "from botocore.client import Config\n",
    "import ibm_boto3\n",
    "\n",
    "def __iter__(self): return 0\n",
    "\n",
    "# @hidden_cell\n",
    "# The following code accesses a file in your IBM Cloud Object Storage. It includes your credentials.\n",
    "# You might want to remove those credentials before you share the notebook.\n",
    "cos_client = ibm_boto3.client(service_name='s3',\n",
    "    ibm_api_key_id='z0u1vzt8qo_0xobAJTt1SWEn6yZmKSWG7oH3mQR1KjUF',\n",
    "    ibm_auth_endpoint=\"https://iam.cloud.ibm.com/oidc/token\",\n",
    "    config=Config(signature_version='oauth'),\n",
    "    endpoint_url='https://s3.private.us.cloud-object-storage.appdomain.cloud')\n",
    "\n",
    "bucket = 'universityadmissionprediction-donotdelete-pr-d6ymzrsmcxijbu'\n",
    "object_key = 'Admission_Predict.csv'\n",
    "\n",
    "body = cos_client.get_object(Bucket=bucket,Key=object_key)['Body']\n",
    "# add missing __iter__ method, so pandas accepts body as file-like object\n",
    "if not hasattr(body, \"__iter__\"): body.__iter__ = types.MethodType( __iter__, body )\n",
    "\n",
    "data = pd.read_csv(body)\n",
    "data.head()\n",
    "data"
   ]
  },
  {
   "cell_type": "markdown",
   "id": "ef76b300",
   "metadata": {},
   "source": [
    "# Analysing the datas"
   ]
  },
  {
   "cell_type": "code",
   "execution_count": null,
   "id": "d87ee8d5",
   "metadata": {},
   "outputs": [],
   "source": [
    "data.head(10)"
   ]
  },
  {
   "cell_type": "code",
   "execution_count": null,
   "id": "f10a2275",
   "metadata": {},
   "outputs": [],
   "source": [
    "data.tail(10)"
   ]
  },
  {
   "cell_type": "code",
   "execution_count": null,
   "id": "78d7c8f2",
   "metadata": {},
   "outputs": [],
   "source": [
    "data.dtypes"
   ]
  },
  {
   "cell_type": "code",
   "execution_count": null,
   "id": "108f3425",
   "metadata": {},
   "outputs": [],
   "source": [
    "data.describe()"
   ]
  },
  {
   "cell_type": "code",
   "execution_count": null,
   "id": "5d21f6a4",
   "metadata": {},
   "outputs": [],
   "source": [
    "data.skew()"
   ]
  },
  {
   "cell_type": "code",
   "execution_count": null,
   "id": "3b0d48c2",
   "metadata": {},
   "outputs": [],
   "source": [
    "data.info()"
   ]
  },
  {
   "cell_type": "code",
   "execution_count": null,
   "id": "eee98a1d",
   "metadata": {},
   "outputs": [],
   "source": []
  },
  {
   "cell_type": "markdown",
   "id": "d4af0a01",
   "metadata": {},
   "source": [
    "# Handling Missing Values from the DataSets"
   ]
  },
  {
   "cell_type": "code",
   "execution_count": null,
   "id": "f74f129f",
   "metadata": {},
   "outputs": [],
   "source": [
    "data.isnull() #method returns datafram object where all values replaced with boolean val true or false"
   ]
  },
  {
   "cell_type": "code",
   "execution_count": null,
   "id": "16c01ec2",
   "metadata": {},
   "outputs": [],
   "source": [
    "data.notnull()"
   ]
  },
  {
   "cell_type": "code",
   "execution_count": null,
   "id": "e477f768",
   "metadata": {},
   "outputs": [],
   "source": [
    "data.sum()"
   ]
  },
  {
   "cell_type": "code",
   "execution_count": null,
   "id": "8897bf07",
   "metadata": {},
   "outputs": [],
   "source": [
    "data.isna().sum() "
   ]
  },
  {
   "cell_type": "markdown",
   "id": "364f9459",
   "metadata": {},
   "source": [
    "# Data Visualization:"
   ]
  },
  {
   "cell_type": "markdown",
   "id": "5e298626",
   "metadata": {},
   "source": [
    "# 1.Univariate Analysis"
   ]
  },
  {
   "cell_type": "markdown",
   "id": "8b575491",
   "metadata": {},
   "source": [
    "# 2.Bivariate Analysis"
   ]
  },
  {
   "cell_type": "markdown",
   "id": "c5f57f47",
   "metadata": {},
   "source": [
    "# 3.Multi-Variate Analysis"
   ]
  },
  {
   "cell_type": "markdown",
   "id": "658aa1aa",
   "metadata": {},
   "source": [
    "# Univariate Analysis"
   ]
  },
  {
   "cell_type": "code",
   "execution_count": null,
   "id": "cc505d17",
   "metadata": {},
   "outputs": [],
   "source": [
    "sns.displot(x=data[\"GRE Score\"], kde=True, color='Red')\n",
    "plt.title(\"GRE score distribution of data\");"
   ]
  },
  {
   "cell_type": "code",
   "execution_count": null,
   "id": "8235055b",
   "metadata": {},
   "outputs": [],
   "source": [
    "sns.displot(x=data[\"TOEFL Score\"], kde=True, color='Black')\n",
    "plt.title(\"TOEFL score distribution of data\");"
   ]
  },
  {
   "cell_type": "code",
   "execution_count": null,
   "id": "d0be4191",
   "metadata": {},
   "outputs": [],
   "source": [
    "sns.countplot(x=data[\"University Rating\"]);\n",
    "plt.title(\"Universities Star Rating by applicants\");"
   ]
  },
  {
   "cell_type": "code",
   "execution_count": null,
   "id": "4c2cfaf7",
   "metadata": {},
   "outputs": [],
   "source": [
    "sns.displot(x=data[\"SOP\"], kde=True, color='yellow');\n",
    "plt.title(\"Distribution for ratings on SOP\");"
   ]
  },
  {
   "cell_type": "code",
   "execution_count": null,
   "id": "ae755e49",
   "metadata": {},
   "outputs": [],
   "source": [
    "sns.displot(x=data[\"CGPA\"], kde=True, color='Darkgreen');\n",
    "plt.title(\"Distribution of CGPA Score\");"
   ]
  },
  {
   "cell_type": "code",
   "execution_count": null,
   "id": "30afe690",
   "metadata": {},
   "outputs": [],
   "source": [
    "sns.countplot(x=data[\"Research\"]);\n",
    "plt.title(\"Research Count\");"
   ]
  },
  {
   "cell_type": "markdown",
   "id": "bd3c4571",
   "metadata": {},
   "source": [
    "# Bivariate Analysis"
   ]
  },
  {
   "cell_type": "code",
   "execution_count": null,
   "id": "6882dc3c",
   "metadata": {},
   "outputs": [],
   "source": [
    "cols = data.columns\n",
    "features = [i for i in data.columns if i != 'Chance of Admit']\n",
    "label = 'Chance of Admit'\n",
    "features"
   ]
  },
  {
   "cell_type": "code",
   "execution_count": null,
   "id": "e9213685",
   "metadata": {},
   "outputs": [],
   "source": [
    "sns.regplot(data['SOP'],data['CGPA'],color='Darkblue')\n"
   ]
  },
  {
   "cell_type": "code",
   "execution_count": null,
   "id": "72e4cb13",
   "metadata": {},
   "outputs": [],
   "source": [
    "sns.boxplot(data['SOP'],data['CGPA'],color='Darkblue')"
   ]
  },
  {
   "cell_type": "markdown",
   "id": "32ec84ce",
   "metadata": {},
   "source": [
    "# Multi-Variate Analysis"
   ]
  },
  {
   "cell_type": "code",
   "execution_count": null,
   "id": "f7aa423e",
   "metadata": {},
   "outputs": [],
   "source": [
    "sns.pairplot(data,hue='Research')"
   ]
  },
  {
   "cell_type": "code",
   "execution_count": null,
   "id": "3cdb9974",
   "metadata": {},
   "outputs": [],
   "source": [
    "corr_matrix = data.corr()\n",
    "plt.figure(figsize = (15, 15))\n",
    "sns.heatmap(corr_matrix,annot=True,fmt='0.2f')\n",
    "plt.title(\"Correlation Matrix\", fontsize = 20)\n",
    "plt.show()"
   ]
  },
  {
   "cell_type": "code",
   "execution_count": null,
   "id": "41f0e4a4",
   "metadata": {},
   "outputs": [],
   "source": [
    "pd.plotting.scatter_matrix(data.loc[:,\"GRE Score\":\"Research\"],diagonal=\"kde\",figsize=(20,15))\n",
    "plt.show"
   ]
  },
  {
   "cell_type": "markdown",
   "id": "1d95b052",
   "metadata": {},
   "source": [
    "# Split the data into dependent and independent variables"
   ]
  },
  {
   "cell_type": "code",
   "execution_count": null,
   "id": "02d5d97b",
   "metadata": {},
   "outputs": [],
   "source": [
    "x = data.iloc[:,0:7]\n",
    "x"
   ]
  },
  {
   "cell_type": "code",
   "execution_count": null,
   "id": "86b3fe62",
   "metadata": {},
   "outputs": [],
   "source": [
    "x.head()"
   ]
  },
  {
   "cell_type": "code",
   "execution_count": null,
   "id": "c7bbaff4",
   "metadata": {},
   "outputs": [],
   "source": [
    "y = data.iloc[:,8:9 ]\n",
    "y"
   ]
  },
  {
   "cell_type": "code",
   "execution_count": null,
   "id": "ba53accf",
   "metadata": {},
   "outputs": [],
   "source": [
    "y.head()"
   ]
  },
  {
   "cell_type": "code",
   "execution_count": null,
   "id": "e35a2a3b",
   "metadata": {},
   "outputs": [],
   "source": [
    "print(f'x contains: {x.shape[0]} rows and {x.shape[1]} columns')"
   ]
  },
  {
   "cell_type": "code",
   "execution_count": null,
   "id": "8cf5ccea",
   "metadata": {},
   "outputs": [],
   "source": [
    "print(f'y contains: {y.shape}')"
   ]
  },
  {
   "cell_type": "code",
   "execution_count": null,
   "id": "8d1d3a55",
   "metadata": {},
   "outputs": [],
   "source": [
    "from sklearn.preprocessing import MinMaxScaler\n",
    "scaler=MinMaxScaler()\n",
    "x[x.columns] = scaler.fit_transform(x[x.columns])"
   ]
  },
  {
   "cell_type": "code",
   "execution_count": null,
   "id": "5b6f571f",
   "metadata": {},
   "outputs": [],
   "source": [
    "x.head()"
   ]
  },
  {
   "cell_type": "markdown",
   "id": "4ebe6456",
   "metadata": {},
   "source": [
    "# Splitting The Data Into Train And Test"
   ]
  },
  {
   "cell_type": "code",
   "execution_count": null,
   "id": "35f41eb1",
   "metadata": {},
   "outputs": [],
   "source": [
    "X=data.drop(['Chance of Admit '],axis=1) #input data_set\n",
    "y=data['Chance of Admit '] #output labels"
   ]
  },
  {
   "cell_type": "code",
   "execution_count": null,
   "id": "8fc21977",
   "metadata": {},
   "outputs": [],
   "source": [
    "from sklearn.model_selection import train_test_split \n",
    "x_train, x_test, y_train, y_test = train_test_split(x, y, test_size=0.15)"
   ]
  },
  {
   "cell_type": "code",
   "execution_count": null,
   "id": "359707b8",
   "metadata": {},
   "outputs": [],
   "source": [
    "x_train"
   ]
  },
  {
   "cell_type": "code",
   "execution_count": null,
   "id": "6f2bb772",
   "metadata": {},
   "outputs": [],
   "source": [
    "y_train"
   ]
  },
  {
   "cell_type": "code",
   "execution_count": null,
   "id": "c0dcd6d7",
   "metadata": {},
   "outputs": [],
   "source": [
    "x_test"
   ]
  },
  {
   "cell_type": "code",
   "execution_count": null,
   "id": "30d52598",
   "metadata": {},
   "outputs": [],
   "source": [
    "y_test"
   ]
  },
  {
   "cell_type": "markdown",
   "id": "fb8827e8",
   "metadata": {},
   "source": [
    "# MODELING AND TRAINING\n"
   ]
  },
  {
   "cell_type": "code",
   "execution_count": null,
   "id": "25ebcd4e",
   "metadata": {},
   "outputs": [],
   "source": [
    "from sklearn.ensemble import GradientBoostingRegressor\n",
    "model = GradientBoostingRegressor()\n",
    "model.fit(x_train,y_train)"
   ]
  },
  {
   "cell_type": "code",
   "execution_count": null,
   "id": "19a45495",
   "metadata": {},
   "outputs": [],
   "source": [
    "model.score(x_test,y_test)\n"
   ]
  },
  {
   "cell_type": "code",
   "execution_count": null,
   "id": "78f146d8",
   "metadata": {},
   "outputs": [],
   "source": [
    "y_predict=model.predict(x_test)"
   ]
  },
  {
   "cell_type": "code",
   "execution_count": null,
   "id": "dffea291",
   "metadata": {},
   "outputs": [],
   "source": [
    "from sklearn.metrics import mean_squared_error, r2_score,mean_absolute_error\n",
    "import numpy as np\n",
    "print('r2 score:',r2_score(y_test,y_predict))\n",
    "print('Mean Absolute Error:', mean_absolute_error(y_test, y_predict))  \n",
    "print('Mean Squared Error:', mean_squared_error(y_test, y_predict))  \n",
    "print('Root Mean Squared Error:', np.sqrt(mean_squared_error(y_test, y_predict)))"
   ]
  },
  {
   "cell_type": "code",
   "execution_count": null,
   "id": "f1cc64e3",
   "metadata": {},
   "outputs": [],
   "source": [
    "y_train = (y_train>0.5)\n",
    "y_test = (y_test>0.5)"
   ]
  },
  {
   "cell_type": "code",
   "execution_count": null,
   "id": "ae708e3a",
   "metadata": {},
   "outputs": [],
   "source": [
    "from sklearn.linear_model._logistic import LogisticRegression\n",
    "\n",
    "lore = LogisticRegression(random_state=0, max_iter=1000)\n",
    "\n",
    "lr = lore.fit(x_train, y_train)"
   ]
  },
  {
   "cell_type": "code",
   "execution_count": null,
   "id": "6027d7ea",
   "metadata": {},
   "outputs": [],
   "source": [
    "y_pred = lr.predict(x_test)"
   ]
  },
  {
   "cell_type": "code",
   "execution_count": null,
   "id": "57a15787",
   "metadata": {},
   "outputs": [],
   "source": [
    "from sklearn.metrics import accuracy_score, recall_score, roc_auc_score, confusion_matrix\n",
    "\n",
    "print('Accuracy Score:', accuracy_score(y_test, y_pred))  \n",
    "print('Recall Score:', recall_score(y_test, y_pred))  \n",
    "print('ROC AUC Score:', roc_auc_score(y_test, y_pred))\n",
    "print('Confussion Matrix:\\n', confusion_matrix(y_test, y_pred))\n"
   ]
  },
  {
   "cell_type": "markdown",
   "id": "cacbebff",
   "metadata": {},
   "source": [
    "# SAVING THE MODEL"
   ]
  },
  {
   "cell_type": "code",
   "execution_count": null,
   "id": "be5cedff",
   "metadata": {},
   "outputs": [],
   "source": [
    "import pickle"
   ]
  },
  {
   "cell_type": "code",
   "execution_count": null,
   "id": "13a357bc",
   "metadata": {},
   "outputs": [],
   "source": [
    "pickle.dump(lr, open(\"university.pkl\", \"wb\")) #logistic regression model"
   ]
  },
  {
   "cell_type": "markdown",
   "id": "d97283c4",
   "metadata": {},
   "source": [
    "# HOSTING THE MODEL"
   ]
  },
  {
   "cell_type": "code",
   "execution_count": null,
   "id": "efc6fd0a",
   "metadata": {},
   "outputs": [],
   "source": [
    "import pickle"
   ]
  },
  {
   "cell_type": "code",
   "execution_count": null,
   "id": "433c01fb",
   "metadata": {},
   "outputs": [],
   "source": [
    "lr = pickle.load(open(\"university.pkl\", \"rb\")) #logistic regression model"
   ]
  },
  {
   "cell_type": "code",
   "execution_count": null,
   "id": "a89c23d9",
   "metadata": {},
   "outputs": [],
   "source": [
    "!pip install -U ibm-watson-machine-learning"
   ]
  },
  {
   "cell_type": "code",
   "execution_count": null,
   "id": "18372b8e",
   "metadata": {},
   "outputs": [],
   "source": [
    "from ibm_watson_machine_learning import APIClient\n",
    "import json"
   ]
  },
  {
   "cell_type": "markdown",
   "id": "85aff3c4",
   "metadata": {},
   "source": [
    "# Authenticate and set space"
   ]
  },
  {
   "cell_type": "code",
   "execution_count": null,
   "id": "66ed65e4",
   "metadata": {},
   "outputs": [],
   "source": [
    "wml_credentials = {\n",
    "    \"apikey\":\"d2-3twnS_oRmh5yFAxs0aK7kpqJcN3_1qQy6IX3-P413\",\n",
    "    \"url\":\"https://us-south.ml.cloud.ibm.com\"\n",
    "}"
   ]
  },
  {
   "cell_type": "code",
   "execution_count": null,
   "id": "459de68e",
   "metadata": {},
   "outputs": [],
   "source": [
    "wml_client = APIClient(wml_credentials)"
   ]
  },
  {
   "cell_type": "code",
   "execution_count": null,
   "id": "d649e9c2",
   "metadata": {},
   "outputs": [],
   "source": [
    "wml_client.spaces.list()"
   ]
  },
  {
   "cell_type": "code",
   "execution_count": null,
   "id": "6f50864f",
   "metadata": {},
   "outputs": [],
   "source": [
    "SPACE_ID=\"77330267-b27a-47ac-8c71-e7808afcd79e\""
   ]
  },
  {
   "cell_type": "code",
   "execution_count": null,
   "id": "148bf7ad",
   "metadata": {},
   "outputs": [],
   "source": [
    "wml_client.set.default_space(SPACE_ID)"
   ]
  },
  {
   "cell_type": "code",
   "execution_count": null,
   "id": "afead9b4",
   "metadata": {},
   "outputs": [],
   "source": [
    "wml_client.software_specifications.list()"
   ]
  },
  {
   "cell_type": "markdown",
   "id": "01c52817",
   "metadata": {},
   "source": [
    "## Save and Deploy the model"
   ]
  },
  {
   "cell_type": "code",
   "execution_count": null,
   "id": "444042ac",
   "metadata": {},
   "outputs": [],
   "source": [
    "import sklearn\n",
    "sklearn.__version__"
   ]
  },
  {
   "cell_type": "code",
   "execution_count": null,
   "id": "49416ad1",
   "metadata": {},
   "outputs": [],
   "source": [
    "MODEL_NAME = 'UNIVERSITY_ADMISSION_PREDICTION'\n",
    "DEPLOYMENT_NAME = 'UNIVERSITY_ADMISSION_PREDICTION'\n",
    "DEMO_MODEL = model"
   ]
  },
  {
   "cell_type": "code",
   "execution_count": null,
   "id": "8f454a05",
   "metadata": {},
   "outputs": [],
   "source": [
    "# Set Python Version\n",
    "software_spec_uid = wml_client.software_specifications.get_id_by_name('runtime-22.1-py3.9')"
   ]
  },
  {
   "cell_type": "code",
   "execution_count": null,
   "id": "01bdf517",
   "metadata": {},
   "outputs": [],
   "source": [
    "# Setup model meta\n",
    "model_props = {\n",
    "    wml_client.repository.ModelMetaNames.NAME: MODEL_NAME, \n",
    "    wml_client.repository.ModelMetaNames.TYPE: 'scikit-learn_1.0', \n",
    "    wml_client.repository.ModelMetaNames.SOFTWARE_SPEC_UID: software_spec_uid \n",
    "}"
   ]
  },
  {
   "cell_type": "code",
   "execution_count": null,
   "id": "e483fb4d",
   "metadata": {},
   "outputs": [],
   "source": [
    "#Save model\n",
    "model_details = wml_client.repository.store_model(\n",
    "    model=DEMO_MODEL, \n",
    "    meta_props=model_props, \n",
    "    training_data=x_train, \n",
    "    training_target=y_train\n",
    ")"
   ]
  },
  {
   "cell_type": "code",
   "execution_count": null,
   "id": "3d760429",
   "metadata": {},
   "outputs": [],
   "source": [
    "model_details"
   ]
  },
  {
   "cell_type": "code",
   "execution_count": null,
   "id": "41a18318",
   "metadata": {},
   "outputs": [],
   "source": [
    "model_id = wml_client.repository.get_model_id(model_details)\n",
    "model_id"
   ]
  },
  {
   "cell_type": "code",
   "execution_count": null,
   "id": "dd0e2574",
   "metadata": {},
   "outputs": [],
   "source": [
    "# Set meta\n",
    "deployment_props = {\n",
    "    wml_client.deployments.ConfigurationMetaNames.NAME:DEPLOYMENT_NAME, \n",
    "    wml_client.deployments.ConfigurationMetaNames.ONLINE: {}\n",
    "}"
   ]
  },
  {
   "cell_type": "code",
   "execution_count": null,
   "id": "0f961aad",
   "metadata": {},
   "outputs": [],
   "source": [
    "# Deploy\n",
    "deployment = wml_client.deployments.create(\n",
    "    artifact_uid=model_id, \n",
    "    meta_props=deployment_props \n",
    ")"
   ]
  },
  {
   "cell_type": "code",
   "execution_count": null,
   "id": "7f62f6aa",
   "metadata": {},
   "outputs": [],
   "source": []
  }
 ],
 "metadata": {
  "kernelspec": {
   "display_name": "Python 3 (ipykernel)",
   "language": "python",
   "name": "python3"
  },
  "language_info": {
   "codemirror_mode": {
    "name": "ipython",
    "version": 3
   },
   "file_extension": ".py",
   "mimetype": "text/x-python",
   "name": "python",
   "nbconvert_exporter": "python",
   "pygments_lexer": "ipython3",
   "version": "3.9.12"
  }
 },
 "nbformat": 4,
 "nbformat_minor": 5
}
